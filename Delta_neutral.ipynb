{
 "cells": [
  {
   "cell_type": "code",
   "execution_count": null,
   "metadata": {},
   "outputs": [
    {
     "ename": "ModuleNotFoundError",
     "evalue": "No module named 'numpy'",
     "output_type": "error",
     "traceback": [
      "\u001b[1;31m---------------------------------------------------------------------------\u001b[0m",
      "\u001b[1;31mModuleNotFoundError\u001b[0m                       Traceback (most recent call last)",
      "Cell \u001b[1;32mIn[1], line 2\u001b[0m\n\u001b[0;32m      1\u001b[0m \u001b[38;5;66;03m# Data manipulation\u001b[39;00m\n\u001b[1;32m----> 2\u001b[0m \u001b[38;5;28;01mimport\u001b[39;00m \u001b[38;5;21;01mnumpy\u001b[39;00m \u001b[38;5;28;01mas\u001b[39;00m \u001b[38;5;21;01mnp\u001b[39;00m\n\u001b[0;32m      3\u001b[0m \u001b[38;5;28;01mimport\u001b[39;00m \u001b[38;5;21;01mpandas\u001b[39;00m \u001b[38;5;28;01mas\u001b[39;00m \u001b[38;5;21;01mpd\u001b[39;00m\n\u001b[0;32m      4\u001b[0m \u001b[38;5;28;01mimport\u001b[39;00m \u001b[38;5;21;01mdatetime\u001b[39;00m\n",
      "\u001b[1;31mModuleNotFoundError\u001b[0m: No module named 'numpy'"
     ]
    }
   ],
   "source": [
    "# Data manipulation\n",
    "import numpy as np\n",
    "import pandas as pd\n",
    "import datetime\n",
    "\n",
    "# To calculate Greeks\n",
    "import mibian\n",
    "\n",
    "def read_data(inst_name):\n",
    "    opt = pd.read_csv(inst_name  + \".csv\")            \n",
    "    opt = opt[(opt['Option Type'] == 'CE') & (opt['Strike Price'] == 10000)]        \n",
    "    opt = opt[['Symbol','Date','Expiry','Option Type','Strike Price','Close','futures_price']]         \n",
    "    return opt\n",
    "\n",
    "Nifty_Opt = read_data('../data_modules/NIFTY_GS_data')\n",
    "Nifty_Opt = Nifty_Opt[:2]\n",
    "Nifty_Opt.head()\n",
    "\n",
    "Nifty_Opt.Expiry = pd.to_datetime(Nifty_Opt.Expiry)\n",
    "Nifty_Opt.Date = pd.to_datetime(Nifty_Opt.Date)\n",
    "Nifty_Opt['time_to_expiry']= (Nifty_Opt.Expiry - Nifty_Opt.Date).dt.days            \n",
    "Nifty_Opt.head()    \n",
    "\n",
    "def implied_volatility_options(opt):\n",
    "    opt['IV'] = np.nan        \n",
    "    for i in range(0,len(opt)):                 \n",
    "        opt.iloc[i,opt.columns.get_loc('IV')] = mibian.BS([opt.iloc[i]['futures_price'], \n",
    "                                                               opt.iloc[i]['Strike Price'], \n",
    "                                                               0, \n",
    "                                                               opt.iloc[i]['time_to_expiry']], \n",
    "                                                              callPrice=opt.iloc[i]['Close']\n",
    "                                                             ).impliedVolatility        \n",
    "    return opt  \n",
    "\n",
    "Nifty_Opt = implied_volatility_options(Nifty_Opt)    \n",
    "Nifty_Opt.head()\n",
    "\n",
    "def delta_options(opt):\n",
    "    opt['delta'] = np.nan    \n",
    "    for i in range(0,len(opt)):         \n",
    "        if opt.iloc[i]['Option Type'] == 'CE':            \n",
    "            opt.iloc[i,opt.columns.get_loc('delta')] = mibian.BS([opt.iloc[i]['futures_price'], \n",
    "                                                               opt.iloc[i]['Strike Price'], \n",
    "                                                               0, \n",
    "                                                               opt.iloc[i]['time_to_expiry']], \n",
    "                                                              volatility=opt.iloc[i]['IV']\n",
    "                                                             ).callDelta        \n",
    "    return opt  \n",
    "\n",
    "Nifty_Opt = delta_options(Nifty_Opt)    \n",
    "Nifty_Opt\n",
    "\n",
    "Nifty_Lot_Size = 75\n",
    "Nifty_Opt['total_delta'] = Nifty_Opt['delta'] * Nifty_Lot_Size\n",
    "Nifty_Opt\n",
    "\n",
    "\n",
    "Nifty_Opt['Fut_Quantity'] = -Nifty_Opt.total_delta // 5 * 5\n",
    "Nifty_Opt\n",
    "\n",
    "futures_pnl = (Nifty_Opt.futures_price - Nifty_Opt.futures_price.shift(1)) * Nifty_Opt.Fut_Quantity.shift(1)\n",
    "futures_pnl\n",
    "\n",
    "\n",
    "call_pnl = (Nifty_Opt.Close - Nifty_Opt.Close.shift(1))  * Nifty_Lot_Size\n",
    "call_pnl\n",
    "\n",
    "call_pnl + futures_pnl\n",
    "\n",
    "\n",
    "\n"
   ]
  }
 ],
 "metadata": {
  "kernelspec": {
   "display_name": "Python 3",
   "language": "python",
   "name": "python3"
  },
  "language_info": {
   "codemirror_mode": {
    "name": "ipython",
    "version": 3
   },
   "file_extension": ".py",
   "mimetype": "text/x-python",
   "name": "python",
   "nbconvert_exporter": "python",
   "pygments_lexer": "ipython3",
   "version": "3.12.1"
  }
 },
 "nbformat": 4,
 "nbformat_minor": 2
}
